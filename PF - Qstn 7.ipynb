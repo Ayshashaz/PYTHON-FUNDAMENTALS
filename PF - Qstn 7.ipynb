{
 "cells": [
  {
   "cell_type": "code",
   "execution_count": 1,
   "id": "57e99975",
   "metadata": {},
   "outputs": [
    {
     "name": "stdout",
     "output_type": "stream",
     "text": [
      "type of num: <class 'int'>\n",
      "type of textnum: <class 'str'>\n",
      "type of decimal: <class 'float'>\n",
      "Sum of variables: 178.3\n",
      "type of sum: <class 'float'>\n"
     ]
    }
   ],
   "source": [
    "num = 23\n",
    "textnum = \"57\"\n",
    "decimal = 98.3\n",
    "print(\"type of num:\", type(num))\n",
    "print(\"type of textnum:\", type(textnum))\n",
    "print(\"type of decimal:\", type(decimal))\n",
    "\n",
    "sum_of_variables = num + int(textnum) + decimal\n",
    "print(\"Sum of variables:\", sum_of_variables)\n",
    "print(\"type of sum:\", type(sum_of_variables))"
   ]
  },
  {
   "cell_type": "code",
   "execution_count": null,
   "id": "36c86b86",
   "metadata": {},
   "outputs": [],
   "source": []
  }
 ],
 "metadata": {
  "kernelspec": {
   "display_name": "Python 3 (ipykernel)",
   "language": "python",
   "name": "python3"
  },
  "language_info": {
   "codemirror_mode": {
    "name": "ipython",
    "version": 3
   },
   "file_extension": ".py",
   "mimetype": "text/x-python",
   "name": "python",
   "nbconvert_exporter": "python",
   "pygments_lexer": "ipython3",
   "version": "3.9.12"
  }
 },
 "nbformat": 4,
 "nbformat_minor": 5
}
