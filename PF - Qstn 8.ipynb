{
 "cells": [
  {
   "cell_type": "code",
   "execution_count": 1,
   "id": "88def330",
   "metadata": {},
   "outputs": [
    {
     "name": "stdout",
     "output_type": "stream",
     "text": [
      "This code describes the total minutes in a year.\n",
      "The number of days in a year: 365\n",
      "The hours in a day: 24\n",
      "The minutes in a hour: 60\n",
      "The total number of minutes in a year: 525600\n"
     ]
    }
   ],
   "source": [
    "days_in_a_year = 365\n",
    "hours_in_a_day = 24\n",
    "minutes_in_a_hour = 60\n",
    "total_minutes_in_a_year = days_in_a_year * hours_in_a_day * minutes_in_a_hour\n",
    "print(\"This code describes the total minutes in a year.\")\n",
    "print(\"The number of days in a year:\", days_in_a_year)\n",
    "print(\"The hours in a day:\", hours_in_a_day)\n",
    "print(\"The minutes in a hour:\", minutes_in_a_hour)\n",
    "print(\"The total number of minutes in a year:\", total_minutes_in_a_year)"
   ]
  },
  {
   "cell_type": "code",
   "execution_count": null,
   "id": "4f84d84d",
   "metadata": {},
   "outputs": [],
   "source": []
  }
 ],
 "metadata": {
  "kernelspec": {
   "display_name": "Python 3 (ipykernel)",
   "language": "python",
   "name": "python3"
  },
  "language_info": {
   "codemirror_mode": {
    "name": "ipython",
    "version": 3
   },
   "file_extension": ".py",
   "mimetype": "text/x-python",
   "name": "python",
   "nbconvert_exporter": "python",
   "pygments_lexer": "ipython3",
   "version": "3.9.12"
  }
 },
 "nbformat": 4,
 "nbformat_minor": 5
}
